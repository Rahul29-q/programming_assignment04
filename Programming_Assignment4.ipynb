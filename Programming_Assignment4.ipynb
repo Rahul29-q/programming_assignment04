{
 "cells": [
  {
   "cell_type": "code",
   "execution_count": 6,
   "id": "c478b50b-f8b5-425c-9210-e59a1465d3e3",
   "metadata": {},
   "outputs": [
    {
     "name": "stdin",
     "output_type": "stream",
     "text": [
      "Enter the number thats factorial  to be computed 10\n"
     ]
    },
    {
     "name": "stdout",
     "output_type": "stream",
     "text": [
      "3628800\n"
     ]
    }
   ],
   "source": [
    "#Program to Find the Factorial of a Number\n",
    "n=int(input(\"Enter the number thats factorial  to be computed\"))\n",
    "fact=1\n",
    "for i in range(0,n):\n",
    "    fact=fact*(i+1)\n",
    "print(fact)"
   ]
  },
  {
   "cell_type": "code",
   "execution_count": 8,
   "id": "8545682b-d906-40eb-8c0d-8fc3db17ead0",
   "metadata": {},
   "outputs": [
    {
     "name": "stdin",
     "output_type": "stream",
     "text": [
      "Enter the number thats multiplication table to be displayed: 12\n"
     ]
    },
    {
     "name": "stdout",
     "output_type": "stream",
     "text": [
      "12x1=12\n",
      "\n",
      "12x2=24\n",
      "\n",
      "12x3=36\n",
      "\n",
      "12x4=48\n",
      "\n",
      "12x5=60\n",
      "\n",
      "12x6=72\n",
      "\n",
      "12x7=84\n",
      "\n",
      "12x8=96\n",
      "\n",
      "12x9=108\n",
      "\n",
      "12x10=120\n",
      "\n"
     ]
    }
   ],
   "source": [
    "#Program to Display the multiplication Table?\n",
    "n=int(input(\"Enter the number thats multiplication table to be displayed:\"))\n",
    "for i in range(0,10):\n",
    "      print(f\"{n}x{(i+1)}={n*(i+1)}\\n\")\n",
    "      "
   ]
  },
  {
   "cell_type": "code",
   "execution_count": 6,
   "id": "67675211-de2d-46f6-be75-e21cb1e410bb",
   "metadata": {},
   "outputs": [
    {
     "name": "stdin",
     "output_type": "stream",
     "text": [
      "Enter the number of terms of the fibnacci sequence to be displayed 10\n"
     ]
    },
    {
     "name": "stdout",
     "output_type": "stream",
     "text": [
      "0\n",
      "1\n",
      "1\n",
      "2\n",
      "3\n",
      "5\n",
      "8\n",
      "13\n",
      "21\n",
      "34\n"
     ]
    }
   ],
   "source": [
    "#Program to Print the Fibonacci sequence?\n",
    "n=int(input(\"Enter the number of terms of the fibnacci sequence to be displayed\"))\n",
    "a,b=0,1\n",
    "c=0\n",
    "for i in range(0,n):\n",
    "    c=b\n",
    "    b=a+b\n",
    "    print(a)\n",
    "    a=c"
   ]
  },
  {
   "cell_type": "code",
   "execution_count": 7,
   "id": "8a205372-fca8-40eb-a01c-a57e530eef3b",
   "metadata": {},
   "outputs": [
    {
     "name": "stdin",
     "output_type": "stream",
     "text": [
      "Enter a number 407\n"
     ]
    },
    {
     "name": "stdout",
     "output_type": "stream",
     "text": [
      "The given number is an armstrong number\n"
     ]
    }
   ],
   "source": [
    "#Program to Check Armstrong Number\n",
    "n=int(input(\"Enter a number\"))\n",
    "N=n\n",
    "r=n%10\n",
    "sum=0\n",
    "while (N//10)!=0:\n",
    "    r=N%10\n",
    "    q=N//10\n",
    "    N=q\n",
    "    sum=sum+r**3\n",
    "sum=sum+N**3\n",
    "if sum==n:\n",
    "    print(\"The given number is an armstrong number\")\n",
    "else:\n",
    "    print(\"THe given number is not an armstrong number\")"
   ]
  },
  {
   "cell_type": "code",
   "execution_count": 11,
   "id": "65c4447f-a571-4f5c-860c-45d510d5a4c8",
   "metadata": {},
   "outputs": [
    {
     "name": "stdin",
     "output_type": "stream",
     "text": [
      "Enter the lower limit of the interval: 1\n",
      "Enter the upper limit of the interval: 10000\n"
     ]
    },
    {
     "name": "stdout",
     "output_type": "stream",
     "text": [
      "1\n",
      "153\n",
      "370\n",
      "371\n",
      "407\n"
     ]
    }
   ],
   "source": [
    "#Program to Find Armstrong Number in an Interval\n",
    "a=int(input(\"Enter the lower limit of the interval:\"))\n",
    "b=int(input(\"Enter the upper limit of the interval:\"))\n",
    "def armstrong(n):\n",
    "    N=n\n",
    "    r=n%10\n",
    "    sum=0\n",
    "    while (N//10)!=0:\n",
    "      r=N%10\n",
    "      q=N//10\n",
    "      N=q\n",
    "      sum=sum+r**3\n",
    "    sum=sum+N**3\n",
    "    if sum==n:\n",
    "      print(n)\n",
    "for i in range(a,b):\n",
    "    armstrong(i)\n",
    "    \n"
   ]
  },
  {
   "cell_type": "code",
   "execution_count": 15,
   "id": "72a292dc-b779-4409-a2c3-90cce00f80c5",
   "metadata": {},
   "outputs": [
    {
     "name": "stdin",
     "output_type": "stream",
     "text": [
      "Enter numbers you want to get the sum of seperated by comma 1,2,3,4\n"
     ]
    },
    {
     "name": "stdout",
     "output_type": "stream",
     "text": [
      "The summation of all the numbers you have entered: 10\n"
     ]
    }
   ],
   "source": [
    "#Program to Find the Sum of Natural Numbers\n",
    "l= input(\"Enter numbers you want to get the sum of seperated by comma\")\n",
    "li= l.split(\",\")\n",
    "for i in range (0,len(li)):\n",
    "    li[i]=int(li[i])\n",
    "sum=0\n",
    "for i in li:\n",
    "    sum=sum+i\n",
    "print(\"The summation of all the numbers you have entered:\",sum) "
   ]
  },
  {
   "cell_type": "code",
   "execution_count": null,
   "id": "ed2f920e-f31e-4c3c-8b24-e2691f211db7",
   "metadata": {},
   "outputs": [],
   "source": []
  },
  {
   "cell_type": "code",
   "execution_count": null,
   "id": "94ff3528-0b32-4e05-a593-18009e0896fb",
   "metadata": {},
   "outputs": [],
   "source": []
  },
  {
   "cell_type": "code",
   "execution_count": 11,
   "id": "6dcaf145-04f1-4a21-93c1-13b537115d8d",
   "metadata": {},
   "outputs": [
    {
     "name": "stdin",
     "output_type": "stream",
     "text": [
      "Enter a list 1,2,3,4\n"
     ]
    },
    {
     "name": "stdout",
     "output_type": "stream",
     "text": [
      "['1', '2', '3', '4']\n"
     ]
    }
   ],
   "source": []
  },
  {
   "cell_type": "code",
   "execution_count": 6,
   "id": "4306445b-f7be-4382-94d7-5450bc7502dc",
   "metadata": {},
   "outputs": [
    {
     "name": "stdin",
     "output_type": "stream",
     "text": [
      "Enter elements of a list separated by space  1 2 3 4\n"
     ]
    },
    {
     "name": "stdout",
     "output_type": "stream",
     "text": [
      "\n",
      "\n",
      "list:  ['1', '2', '3', '4']\n",
      "Sum =  10\n"
     ]
    }
   ],
   "source": []
  },
  {
   "cell_type": "code",
   "execution_count": 10,
   "id": "b963b100-2d9e-4d64-aa87-e90c9873e72d",
   "metadata": {},
   "outputs": [
    {
     "name": "stdin",
     "output_type": "stream",
     "text": [
      "Enter elements of a list separated by space  1,2,3\n"
     ]
    },
    {
     "name": "stdout",
     "output_type": "stream",
     "text": [
      "['1', '2', '3']\n"
     ]
    }
   ],
   "source": []
  },
  {
   "cell_type": "code",
   "execution_count": null,
   "id": "c31e7c20-9c39-40da-b7c6-43f8ed2d922d",
   "metadata": {},
   "outputs": [],
   "source": [
    "l="
   ]
  }
 ],
 "metadata": {
  "kernelspec": {
   "display_name": "Python 3 (ipykernel)",
   "language": "python",
   "name": "python3"
  },
  "language_info": {
   "codemirror_mode": {
    "name": "ipython",
    "version": 3
   },
   "file_extension": ".py",
   "mimetype": "text/x-python",
   "name": "python",
   "nbconvert_exporter": "python",
   "pygments_lexer": "ipython3",
   "version": "3.10.6"
  }
 },
 "nbformat": 4,
 "nbformat_minor": 5
}
